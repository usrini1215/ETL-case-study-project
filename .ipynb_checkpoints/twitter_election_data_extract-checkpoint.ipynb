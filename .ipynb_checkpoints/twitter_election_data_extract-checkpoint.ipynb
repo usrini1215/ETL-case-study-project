{
 "cells": [
  {
   "cell_type": "code",
   "execution_count": 1,
   "metadata": {},
   "outputs": [
    {
     "name": "stdout",
     "output_type": "stream",
     "text": [
      "Usha Chari\n"
     ]
    }
   ],
   "source": [
    "import csv\n",
    "import tweepy\n",
    "import ssl\n",
    "import twitter_credentials\n",
    "\n",
    "\n",
    "consumer_key = twitter_credentials.CONSUMER_KEY \n",
    "consumer_secret = twitter_credentials.CONSUMER_SECRET\n",
    "access_token = twitter_credentials.ACCESS_TOKEN\n",
    "access_token_secret = twitter_credentials.ACCESS_TOKEN_SECRET\n",
    "\n",
    "auth = tweepy.OAuthHandler(consumer_key, consumer_secret)\n",
    "auth.set_access_token(access_token, access_token_secret)\n",
    "ssl._create_default_https_context = ssl._create_unverified_context\n",
    "api = tweepy.API(auth)\n",
    "api = tweepy.API(auth, wait_on_rate_limit=True)\n",
    "\n",
    "user = api.me()\n",
    "print (user.name)"
   ]
  },
  {
   "cell_type": "code",
   "execution_count": 8,
   "metadata": {},
   "outputs": [],
   "source": [
    "#Trump info to be scraped from Twitter site\n",
    "name = 'realDonaldTrump'\n",
    "tweet_id = '1311804792600227841'\n"
   ]
  },
  {
   "cell_type": "code",
   "execution_count": 9,
   "metadata": {},
   "outputs": [],
   "source": [
    "#Scrape thru Twitters API\n",
    "replies=[]\n",
    "for tweet in tweepy.Cursor(api.search,q='to:'+name, result_type='recent', timeout=999999).items(1000):\n",
    "    if hasattr(tweet, 'in_reply_to_status_id_str'):\n",
    "        if (tweet.in_reply_to_status_id_str==tweet_id):\n",
    "            replies.append(tweet)\n",
    "\n",
    "with open('twitter_trump_data.csv', 'a+') as f:\n",
    "    csv_writer = csv.DictWriter(f, fieldnames=('user', 'text'))\n",
    "    csv_writer.writeheader()\n",
    "    for tweet in replies:\n",
    "        row = {'user': tweet.user.screen_name, 'text': tweet.text.replace('\\n', ' ')}\n",
    "        csv_writer.writerow(row)"
   ]
  },
  {
   "cell_type": "code",
   "execution_count": 15,
   "metadata": {},
   "outputs": [
    {
     "data": {
      "text/html": [
       "<div>\n",
       "<style scoped>\n",
       "    .dataframe tbody tr th:only-of-type {\n",
       "        vertical-align: middle;\n",
       "    }\n",
       "\n",
       "    .dataframe tbody tr th {\n",
       "        vertical-align: top;\n",
       "    }\n",
       "\n",
       "    .dataframe thead th {\n",
       "        text-align: right;\n",
       "    }\n",
       "</style>\n",
       "<table border=\"1\" class=\"dataframe\">\n",
       "  <thead>\n",
       "    <tr style=\"text-align: right;\">\n",
       "      <th></th>\n",
       "      <th>user</th>\n",
       "      <th>text</th>\n",
       "    </tr>\n",
       "  </thead>\n",
       "  <tbody>\n",
       "    <tr>\n",
       "      <th>0</th>\n",
       "      <td>TheWondersNatur</td>\n",
       "      <td>@realDonaldTrump Proud Boys Celebrate After Tr...</td>\n",
       "    </tr>\n",
       "    <tr>\n",
       "      <th>1</th>\n",
       "      <td>johnnyzom</td>\n",
       "      <td>@realDonaldTrump https://t.co/83FP4TgSBs.</td>\n",
       "    </tr>\n",
       "    <tr>\n",
       "      <th>2</th>\n",
       "      <td>annmill1966</td>\n",
       "      <td>@realDonaldTrump Get ready to go to prison Don...</td>\n",
       "    </tr>\n",
       "    <tr>\n",
       "      <th>3</th>\n",
       "      <td>WaynesWorld1960</td>\n",
       "      <td>@realDonaldTrump 20 times Trump disavowed whit...</td>\n",
       "    </tr>\n",
       "    <tr>\n",
       "      <th>4</th>\n",
       "      <td>2bconsidered</td>\n",
       "      <td>@realDonaldTrump https://t.co/CA3riZPh6z</td>\n",
       "    </tr>\n",
       "  </tbody>\n",
       "</table>\n",
       "</div>"
      ],
      "text/plain": [
       "              user                                               text\n",
       "0  TheWondersNatur  @realDonaldTrump Proud Boys Celebrate After Tr...\n",
       "1        johnnyzom          @realDonaldTrump https://t.co/83FP4TgSBs.\n",
       "2      annmill1966  @realDonaldTrump Get ready to go to prison Don...\n",
       "3  WaynesWorld1960  @realDonaldTrump 20 times Trump disavowed whit...\n",
       "4     2bconsidered           @realDonaldTrump https://t.co/CA3riZPh6z"
      ]
     },
     "execution_count": 15,
     "metadata": {},
     "output_type": "execute_result"
    }
   ],
   "source": [
    "# Copy twitter info into CSV file\n",
    "import matplotlib.pyplot as plt\n",
    "import numpy as np\n",
    "import pandas as pd\n",
    "\n",
    "csv_file = \"twitter_trump_data.csv\"\n",
    "twitter_trump_data_df = pd.read_csv(csv_file)\n",
    "twitter_trump_data_df.head()"
   ]
  },
  {
   "cell_type": "code",
   "execution_count": 7,
   "metadata": {},
   "outputs": [],
   "source": [
    "#Biden info to be scraped from Twitter site\n",
    "name = 'JoeBiden'\n",
    "tweet_id = '1311807606365790210'\n",
    "\n",
    "replies=[]\n",
    "for tweet in tweepy.Cursor(api.search,q='to:'+name, result_type='recent', timeout=999999).items(1000):\n",
    "    if hasattr(tweet, 'in_reply_to_status_id_str'):\n",
    "        if (tweet.in_reply_to_status_id_str==tweet_id):\n",
    "            replies.append(tweet)\n",
    "\n",
    "with open('twitter_biden_data.csv', 'a+') as f:\n",
    "    csv_writer = csv.DictWriter(f, fieldnames=('user', 'text'))\n",
    "    csv_writer.writeheader()\n",
    "    for tweet in replies:\n",
    "        row = {'user': tweet.user.screen_name, 'text': tweet.text.replace('\\n', ' ')}\n",
    "        csv_writer.writerow(row)"
   ]
  },
  {
   "cell_type": "code",
   "execution_count": 25,
   "metadata": {},
   "outputs": [
    {
     "data": {
      "text/html": [
       "<div>\n",
       "<style scoped>\n",
       "    .dataframe tbody tr th:only-of-type {\n",
       "        vertical-align: middle;\n",
       "    }\n",
       "\n",
       "    .dataframe tbody tr th {\n",
       "        vertical-align: top;\n",
       "    }\n",
       "\n",
       "    .dataframe thead th {\n",
       "        text-align: right;\n",
       "    }\n",
       "</style>\n",
       "<table border=\"1\" class=\"dataframe\">\n",
       "  <thead>\n",
       "    <tr style=\"text-align: right;\">\n",
       "      <th></th>\n",
       "      <th>user</th>\n",
       "      <th>text</th>\n",
       "    </tr>\n",
       "  </thead>\n",
       "  <tbody>\n",
       "    <tr>\n",
       "      <th>0</th>\n",
       "      <td>AlofsLisa</td>\n",
       "      <td>@JoeBiden What are your comments on this Joe B...</td>\n",
       "    </tr>\n",
       "    <tr>\n",
       "      <th>1</th>\n",
       "      <td>Me4ok1</td>\n",
       "      <td>@JoeBiden America is \"laughing with you\" Presi...</td>\n",
       "    </tr>\n",
       "    <tr>\n",
       "      <th>2</th>\n",
       "      <td>carenmess</td>\n",
       "      <td>@JoeBiden Shut up man</td>\n",
       "    </tr>\n",
       "    <tr>\n",
       "      <th>3</th>\n",
       "      <td>WeezieJean630</td>\n",
       "      <td>@JoeBiden Keep up the positive messaging!  It’...</td>\n",
       "    </tr>\n",
       "    <tr>\n",
       "      <th>4</th>\n",
       "      <td>TylerB21495663</td>\n",
       "      <td>@JoeBiden Your one of the reasons the family u...</td>\n",
       "    </tr>\n",
       "  </tbody>\n",
       "</table>\n",
       "</div>"
      ],
      "text/plain": [
       "             user                                               text\n",
       "0       AlofsLisa  @JoeBiden What are your comments on this Joe B...\n",
       "1          Me4ok1  @JoeBiden America is \"laughing with you\" Presi...\n",
       "2       carenmess                              @JoeBiden Shut up man\n",
       "3   WeezieJean630  @JoeBiden Keep up the positive messaging!  It’...\n",
       "4  TylerB21495663  @JoeBiden Your one of the reasons the family u..."
      ]
     },
     "execution_count": 25,
     "metadata": {},
     "output_type": "execute_result"
    }
   ],
   "source": [
    "##Biden info to Excel file\n",
    "csv_file = \"twitter_biden_data.csv\"\n",
    "twitter_biden_data_df = pd.read_csv(csv_file)\n",
    "twitter_biden_data_df.head()"
   ]
  },
  {
   "cell_type": "code",
   "execution_count": 39,
   "metadata": {},
   "outputs": [],
   "source": [
    "#Load the dataframes to Mongo DB using a new function\n",
    "\n",
    "def write_df_to_mongoDB(  my_df,\\\n",
    "                          database_name = 'mydatabasename' ,\\\n",
    "                          collection_name = 'mycollectionname',\n",
    "                          server = 'localhost',\\\n",
    "                          mongodb_port = 27017,\\\n",
    "                          chunk_size = 100):\n",
    "    #\"\"\"\n",
    "    #This function take a list and create a collection in MongoDB (you should\n",
    "    #provide the database name, collection, port to connect to the remoete database,\n",
    "    #server of the remote database, local port to tunnel to the other machine)\n",
    "    #\n",
    "    #---------------------------------------------------------------------------\n",
    "    #Parameters / Input\n",
    "    #    my_list: the list to send to MongoDB\n",
    "    #    database_name:  database name\n",
    "    #\n",
    "    #    collection_name: collection name (to create)\n",
    "    #    server: the server of where the MongoDB database is hosted\n",
    "    #        Example: server = '132.434.63.86'\n",
    "    #    this_machine_port: local machine port.\n",
    "    #        For example: this_machine_port = '27017'\n",
    "    #    remote_port: the port where the database is operating\n",
    "    #        For example: remote_port = '27017'\n",
    "    #    chunk_size: The number of items of the list that will be send at the\n",
    "    #        some time to the database. Default is 100.\n",
    "    #\n",
    "    #Output\n",
    "    #    When finished will print \"Done\"\n",
    "    #----------------------------------------------------------------------------\n",
    "    #FUTURE modifications.\n",
    "    #1. Write to SQL\n",
    "    #2. Write to csv\n",
    "    #----------------------------------------------------------------------------\n",
    "    #30/11/2017: Rafael Valero-Fernandez. Documentation\n",
    "    #\"\"\"\n",
    "\n",
    "    #To connect\n",
    "    import os\n",
    "    import pandas as pd\n",
    "    import pymongo\n",
    "    from pymongo import MongoClient\n",
    "\n",
    "    client = MongoClient('localhost',int(mongodb_port))\n",
    "    db = client[database_name]\n",
    "    collection = db[collection_name]\n",
    "    # To write\n",
    "    collection.delete_many({})  # Destroy the collection\n",
    "    #aux_df=aux_df.drop_duplicates(subset=None, keep='last') # To avoid repetitions\n",
    "    my_list = my_df.to_dict('records')\n",
    "    l =  len(my_list)\n",
    "    ran = range(l)\n",
    "    #print(1,ran)\n",
    "    steps=list(ran[chunk_size::chunk_size])\n",
    "    steps.append([l])\n",
    "\n",
    "    #steps=ran[chunk_size::chunk_size]\n",
    "    #steps.extend([l])\n",
    "    \n",
    "\n",
    "    # Inser chunks of the dataframe\n",
    "    i = 0\n",
    "    for j in steps:\n",
    "        #print(j,i)\n",
    "        if type(j) != list:\n",
    "            collection.insert_many(my_list[i:j]) # fill de collection\n",
    "        i = j\n",
    "\n",
    "    print('Done')\n",
    "    return"
   ]
  },
  {
   "cell_type": "code",
   "execution_count": 40,
   "metadata": {},
   "outputs": [
    {
     "name": "stdout",
     "output_type": "stream",
     "text": [
      "Done\n"
     ]
    }
   ],
   "source": [
    "write_df_to_mongoDB(twitter_biden_data_df,\\\n",
    "                          database_name = 'ElectionForecast2020' ,\\\n",
    "                          collection_name = 'twitter_biden_data',\n",
    "                          server = 'localhost',\\\n",
    "                          mongodb_port = 27017,\\\n",
    "                          chunk_size = 100)"
   ]
  },
  {
   "cell_type": "code",
   "execution_count": 41,
   "metadata": {},
   "outputs": [
    {
     "name": "stdout",
     "output_type": "stream",
     "text": [
      "Done\n"
     ]
    }
   ],
   "source": [
    "write_df_to_mongoDB(twitter_trump_data_df,\\\n",
    "                          database_name = 'ElectionForecast2020' ,\\\n",
    "                          collection_name = 'twitter_trump_data',\n",
    "                          server = 'localhost',\\\n",
    "                          mongodb_port = 27017,\\\n",
    "                          chunk_size = 10)"
   ]
  },
  {
   "cell_type": "code",
   "execution_count": null,
   "metadata": {},
   "outputs": [],
   "source": []
  }
 ],
 "metadata": {
  "kernelspec": {
   "display_name": "Python 3",
   "language": "python",
   "name": "python3"
  },
  "language_info": {
   "codemirror_mode": {
    "name": "ipython",
    "version": 3
   },
   "file_extension": ".py",
   "mimetype": "text/x-python",
   "name": "python",
   "nbconvert_exporter": "python",
   "pygments_lexer": "ipython3",
   "version": "3.7.6"
  }
 },
 "nbformat": 4,
 "nbformat_minor": 4
}
